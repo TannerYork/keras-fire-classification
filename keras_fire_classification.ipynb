{
 "cells": [
  {
   "cell_type": "markdown",
   "metadata": {
    "colab_type": "text",
    "id": "i1zkdnMfIhn_"
   },
   "source": [
    "# Fire Classification"
   ]
  },
  {
   "cell_type": "code",
   "execution_count": 1,
   "metadata": {
    "colab": {
     "base_uri": "https://localhost:8080/",
     "height": 34
    },
    "colab_type": "code",
    "id": "j_X9MGtsIhoB",
    "outputId": "ef2fb987-85c3-4131-b786-c21f79519159"
   },
   "outputs": [
    {
     "name": "stderr",
     "output_type": "stream",
     "text": [
      "Using TensorFlow backend.\n"
     ]
    }
   ],
   "source": [
    "import pandas as pd\n",
    "import numpy as np\n",
    "import matplotlib.pyplot as plt\n",
    "from matplotlib.image import imread\n",
    "\n",
    "import keras\n",
    "from keras import layers, optimizers\n",
    "from keras import preprocessing\n",
    "from sklearn import model_selection\n",
    "from sklearn.metrics import classification_report\n",
    "\n",
    "import glob\n",
    "from PIL import Image"
   ]
  },
  {
   "cell_type": "code",
   "execution_count": null,
   "metadata": {
    "colab": {
     "base_uri": "https://localhost:8080/",
     "height": 1000
    },
    "colab_type": "code",
    "id": "1oHXpAlQ8W7p",
    "outputId": "627c8729-641c-43fe-d5bd-fdb75fc056f3"
   },
   "outputs": [],
   "source": [
    "! unzip fire_class_images.zip"
   ]
  },
  {
   "cell_type": "code",
   "execution_count": 8,
   "metadata": {
    "colab": {
     "base_uri": "https://localhost:8080/",
     "height": 419
    },
    "colab_type": "code",
    "id": "jGumVcvbvhfy",
    "outputId": "89a4c086-5370-41db-fe2f-f408d3a0cbe8"
   },
   "outputs": [
    {
     "data": {
      "text/html": [
       "<div>\n",
       "<style scoped>\n",
       "    .dataframe tbody tr th:only-of-type {\n",
       "        vertical-align: middle;\n",
       "    }\n",
       "\n",
       "    .dataframe tbody tr th {\n",
       "        vertical-align: top;\n",
       "    }\n",
       "\n",
       "    .dataframe thead th {\n",
       "        text-align: right;\n",
       "    }\n",
       "</style>\n",
       "<table border=\"1\" class=\"dataframe\">\n",
       "  <thead>\n",
       "    <tr style=\"text-align: right;\">\n",
       "      <th></th>\n",
       "      <th>Unnamed: 0</th>\n",
       "      <th>Unnamed: 0.1</th>\n",
       "      <th>filename</th>\n",
       "      <th>label</th>\n",
       "    </tr>\n",
       "  </thead>\n",
       "  <tbody>\n",
       "    <tr>\n",
       "      <th>0</th>\n",
       "      <td>0</td>\n",
       "      <td>0.0</td>\n",
       "      <td>92983122.jpg</td>\n",
       "      <td>normal</td>\n",
       "    </tr>\n",
       "    <tr>\n",
       "      <th>1</th>\n",
       "      <td>1</td>\n",
       "      <td>1.0</td>\n",
       "      <td>wildfire-coverage-521x308.jpg</td>\n",
       "      <td>normal</td>\n",
       "    </tr>\n",
       "    <tr>\n",
       "      <th>2</th>\n",
       "      <td>2</td>\n",
       "      <td>2.0</td>\n",
       "      <td>201307-restroom-fire-safety-fire1.jpg</td>\n",
       "      <td>normal</td>\n",
       "    </tr>\n",
       "    <tr>\n",
       "      <th>3</th>\n",
       "      <td>3</td>\n",
       "      <td>3.0</td>\n",
       "      <td>X-Files_Office_on_fire.jpg</td>\n",
       "      <td>normal</td>\n",
       "    </tr>\n",
       "    <tr>\n",
       "      <th>4</th>\n",
       "      <td>4</td>\n",
       "      <td>4.0</td>\n",
       "      <td>tree-fire.jpg</td>\n",
       "      <td>normal</td>\n",
       "    </tr>\n",
       "    <tr>\n",
       "      <th>...</th>\n",
       "      <td>...</td>\n",
       "      <td>...</td>\n",
       "      <td>...</td>\n",
       "      <td>...</td>\n",
       "    </tr>\n",
       "    <tr>\n",
       "      <th>1029</th>\n",
       "      <td>382</td>\n",
       "      <td>NaN</td>\n",
       "      <td>fire.646.png</td>\n",
       "      <td>normal</td>\n",
       "    </tr>\n",
       "    <tr>\n",
       "      <th>1030</th>\n",
       "      <td>383</td>\n",
       "      <td>NaN</td>\n",
       "      <td>fire.536.png</td>\n",
       "      <td>normal</td>\n",
       "    </tr>\n",
       "    <tr>\n",
       "      <th>1031</th>\n",
       "      <td>384</td>\n",
       "      <td>NaN</td>\n",
       "      <td>fire.665.png</td>\n",
       "      <td>normal</td>\n",
       "    </tr>\n",
       "    <tr>\n",
       "      <th>1032</th>\n",
       "      <td>385</td>\n",
       "      <td>NaN</td>\n",
       "      <td>fire.88.png</td>\n",
       "      <td>normal</td>\n",
       "    </tr>\n",
       "    <tr>\n",
       "      <th>1033</th>\n",
       "      <td>386</td>\n",
       "      <td>NaN</td>\n",
       "      <td>fire.726.png</td>\n",
       "      <td>normal</td>\n",
       "    </tr>\n",
       "  </tbody>\n",
       "</table>\n",
       "<p>1034 rows × 4 columns</p>\n",
       "</div>"
      ],
      "text/plain": [
       "      Unnamed: 0  Unnamed: 0.1                               filename   label\n",
       "0              0           0.0                           92983122.jpg  normal\n",
       "1              1           1.0          wildfire-coverage-521x308.jpg  normal\n",
       "2              2           2.0  201307-restroom-fire-safety-fire1.jpg  normal\n",
       "3              3           3.0             X-Files_Office_on_fire.jpg  normal\n",
       "4              4           4.0                          tree-fire.jpg  normal\n",
       "...          ...           ...                                    ...     ...\n",
       "1029         382           NaN                           fire.646.png  normal\n",
       "1030         383           NaN                           fire.536.png  normal\n",
       "1031         384           NaN                           fire.665.png  normal\n",
       "1032         385           NaN                            fire.88.png  normal\n",
       "1033         386           NaN                           fire.726.png  normal\n",
       "\n",
       "[1034 rows x 4 columns]"
      ]
     },
     "execution_count": 8,
     "metadata": {
      "tags": []
     },
     "output_type": "execute_result"
    }
   ],
   "source": [
    "df_fire = pd.read_csv('fire_class_names.csv')\n",
    "df_fire['label'] = df_fire['label'].apply(lambda x: 'fire' if x == 0 else 'normal')\n",
    "df_fire"
   ]
  },
  {
   "cell_type": "markdown",
   "metadata": {
    "colab_type": "text",
    "id": "KUDi19r7IhoJ"
   },
   "source": [
    "### Data Preperation"
   ]
  },
  {
   "cell_type": "code",
   "execution_count": 9,
   "metadata": {
    "colab": {},
    "colab_type": "code",
    "id": "khPUHoUuIhoT"
   },
   "outputs": [],
   "source": [
    "df_train, df_test, y_train, y_test = model_selection.train_test_split(df_fire.drop(columns=['label']), df_fire['label'], stratify=df_fire['label'], random_state=0)\n",
    "df_train['label'] = pd.Series((y for y in y_train), index=df_train.index)\n",
    "df_test['label'] = pd.Series((y for y in y_test), index=df_test.index)"
   ]
  },
  {
   "cell_type": "code",
   "execution_count": 28,
   "metadata": {
    "colab": {
     "base_uri": "https://localhost:8080/",
     "height": 51
    },
    "colab_type": "code",
    "id": "B04_lomWIhoZ",
    "outputId": "af666b23-a661-44bf-d47c-ae13f7eebd7d"
   },
   "outputs": [
    {
     "name": "stdout",
     "output_type": "stream",
     "text": [
      "Found 775 validated image filenames belonging to 2 classes.\n",
      "Found 259 validated image filenames belonging to 2 classes.\n"
     ]
    }
   ],
   "source": [
    "train_datagen = preprocessing.image.ImageDataGenerator(rescale=1./255, shear_range=0.2, zoom_range=0.2, horizontal_flip=True)\n",
    "test_datagen = preprocessing.image.ImageDataGenerator(rescale=1./255, shear_range=0.2, zoom_range=0.2, horizontal_flip=True)\n",
    "\n",
    "train_generator = train_datagen.flow_from_dataframe(\n",
    "    dataframe=df_train, directory='fire_class_images/', x_col='filename',\n",
    "     y_col='label', batch_size=30, class_mode='binary')\n",
    "test_generator = test_datagen.flow_from_dataframe(\n",
    "    dataframe=df_test, directory='fire_class_images/', x_col='filename',\n",
    "     y_col='label', batch_size=30, class_mode='binary')"
   ]
  },
  {
   "cell_type": "markdown",
   "metadata": {
    "colab_type": "text",
    "id": "MxW8ncluIhof"
   },
   "source": [
    "### Baseline Model And Model Accuracy"
   ]
  },
  {
   "cell_type": "code",
   "execution_count": 29,
   "metadata": {
    "colab": {
     "base_uri": "https://localhost:8080/",
     "height": 374
    },
    "colab_type": "code",
    "id": "AHvjiwQoIhog",
    "outputId": "4536208d-3b55-433f-ebc9-bc4e98973e16"
   },
   "outputs": [
    {
     "name": "stdout",
     "output_type": "stream",
     "text": [
      "Training Model\n",
      "Epoch 1/10\n",
      "25/25 [==============================] - 23s 938ms/step - loss: 9.5743 - accuracy: 0.6617\n",
      "Epoch 2/10\n",
      "25/25 [==============================] - 24s 952ms/step - loss: 1.7851 - accuracy: 0.7879\n",
      "Epoch 3/10\n",
      "25/25 [==============================] - 23s 924ms/step - loss: 0.8340 - accuracy: 0.8201\n",
      "Epoch 4/10\n",
      "25/25 [==============================] - 24s 956ms/step - loss: 0.8543 - accuracy: 0.8240\n",
      "Epoch 5/10\n",
      "25/25 [==============================] - 22s 879ms/step - loss: 1.2354 - accuracy: 0.8041\n",
      "Epoch 6/10\n",
      "25/25 [==============================] - 23s 916ms/step - loss: 1.0171 - accuracy: 0.8094\n",
      "Epoch 7/10\n",
      "25/25 [==============================] - 23s 919ms/step - loss: 0.6396 - accuracy: 0.8819\n",
      "Epoch 8/10\n",
      "25/25 [==============================] - 24s 971ms/step - loss: 0.5432 - accuracy: 0.8631\n",
      "Epoch 9/10\n",
      "25/25 [==============================] - 22s 887ms/step - loss: 0.6415 - accuracy: 0.8483\n",
      "Epoch 10/10\n",
      "25/25 [==============================] - 23s 917ms/step - loss: 0.6019 - accuracy: 0.8698\n"
     ]
    }
   ],
   "source": [
    "from keras import metrics\n",
    "\n",
    "def define_baseline_fire():\n",
    "    model = keras.Sequential([\n",
    "        layers.Conv2D(32, (3, 3), activation='relu', kernel_initializer='he_uniform', padding='same', input_shape=(256, 256, 3)),\n",
    "        layers.MaxPooling2D((2, 2)),\n",
    "        layers.Flatten(),\n",
    "\t      layers.Dense(1, activation='sigmoid'),\n",
    "    ])\n",
    "\n",
    "    opt = optimizers.SGD(lr=0.001, momentum=0.9)\n",
    "    model.compile(optimizer='adam', loss='binary_crossentropy', metrics=['accuracy'])\n",
    "    return model\n",
    "\n",
    "# Train model and get it's history\n",
    "print('Training Model')\n",
    "baseline_fire = define_baseline_fire()\n",
    "history = baseline_fire.fit(train_generator, steps_per_epoch=len(df_train)//30, epochs=10)"
   ]
  },
  {
   "cell_type": "code",
   "execution_count": 30,
   "metadata": {
    "colab": {
     "base_uri": "https://localhost:8080/",
     "height": 51
    },
    "colab_type": "code",
    "id": "Nuy8TfWciBtS",
    "outputId": "c4963eea-f06d-44ed-9ac7-bddee3a6cd6c"
   },
   "outputs": [
    {
     "name": "stdout",
     "output_type": "stream",
     "text": [
      "Evaluating Model\n",
      "Train Accuracy: 81.667\n"
     ]
    }
   ],
   "source": [
    "# Evaluate model\n",
    "print('Evaluating Model')\n",
    "_, acc = baseline_fire.evaluate(test_generator, steps=len(df_test)//30, verbose=0)\n",
    "print('Train Accuracy: %.3f' % (acc * 100.0))"
   ]
  },
  {
   "cell_type": "code",
   "execution_count": 31,
   "metadata": {
    "colab": {
     "base_uri": "https://localhost:8080/",
     "height": 281
    },
    "colab_type": "code",
    "id": "pFV4egHHIhq0",
    "outputId": "b0a8e610-36b1-4888-9e81-27262000bc9f"
   },
   "outputs": [
    {
     "data": {
      "image/png": "[encoded data removed]",
      "text/plain": [
       "<Figure size 432x288 with 2 Axes>"
      ]
     },
     "metadata": {
      "needs_background": "light",
      "tags": []
     },
     "output_type": "display_data"
    }
   ],
   "source": [
    "def summarize_diagnostics(history):\n",
    "    # Plot loss\n",
    "    plt.subplot(211)\n",
    "    plt.title('Cross Entropy Loss')\n",
    "    plt.plot(history.history['loss'], color='blue', label='train')\n",
    "    # plt.plot(history.history['val_loss'], color='orange', label='test')\n",
    "    \n",
    "    # Plot accuracy\n",
    "    plt.subplot(212)\n",
    "    plt.title('Classification Accuracy')\n",
    "    plt.plot(history.history['accuracy'], color='blue', label='train')\n",
    "    # plt.plot(history.history['val_accuracy'], color='orange', label='test')\n",
    "    \n",
    "summarize_diagnostics(history)"
   ]
  },
  {
   "cell_type": "markdown",
   "metadata": {
    "colab_type": "text",
    "id": "PT7m8rhC8FZP"
   },
   "source": [
    "## CNN Model and Model Accuracy"
   ]
  },
  {
   "cell_type": "code",
   "execution_count": 32,
   "metadata": {
    "colab": {
     "base_uri": "https://localhost:8080/",
     "height": 357
    },
    "colab_type": "code",
    "id": "bCzMPsTt8LMN",
    "outputId": "e4038e3d-5594-4321-e35c-201c875cc662"
   },
   "outputs": [
    {
     "name": "stdout",
     "output_type": "stream",
     "text": [
      "Epoch 1/10\n",
      "25/25 [==============================] - 23s 926ms/step - loss: 0.3006 - accuracy: 0.9195\n",
      "Epoch 2/10\n",
      "25/25 [==============================] - 23s 910ms/step - loss: 0.1906 - accuracy: 0.9248\n",
      "Epoch 3/10\n",
      "25/25 [==============================] - 23s 921ms/step - loss: 0.2302 - accuracy: 0.9342\n",
      "Epoch 4/10\n",
      "25/25 [==============================] - 23s 906ms/step - loss: 0.1986 - accuracy: 0.9248\n",
      "Epoch 5/10\n",
      "25/25 [==============================] - 23s 912ms/step - loss: 0.2954 - accuracy: 0.9087\n",
      "Epoch 6/10\n",
      "25/25 [==============================] - 25s 1s/step - loss: 0.4545 - accuracy: 0.8733\n",
      "Epoch 7/10\n",
      "25/25 [==============================] - 21s 834ms/step - loss: 0.2233 - accuracy: 0.9216\n",
      "Epoch 8/10\n",
      "25/25 [==============================] - 25s 988ms/step - loss: 0.1789 - accuracy: 0.9396\n",
      "Epoch 9/10\n",
      "25/25 [==============================] - 23s 917ms/step - loss: 0.3105 - accuracy: 0.9020\n",
      "Epoch 10/10\n",
      "25/25 [==============================] - 22s 861ms/step - loss: 0.1673 - accuracy: 0.9436\n"
     ]
    }
   ],
   "source": [
    "def define_cnn_model():\n",
    "\tmodel = keras.Sequential([\n",
    "    layers.Conv2D(32, (3, 3), activation='relu', kernel_initializer='he_uniform', padding='same', input_shape=(256, 256, 3)),\n",
    "    layers.MaxPooling2D((2, 2)),\n",
    "\t  layers.Conv2D(64, (3, 3), activation='relu', kernel_initializer='he_uniform', padding='same'),\n",
    "\t  layers.MaxPooling2D((2, 2)),\n",
    "\t  layers.Conv2D(128, (3, 3), activation='relu', kernel_initializer='he_uniform', padding='same'),\n",
    "\t  layers.MaxPooling2D((2, 2)),\n",
    "\t  layers.Flatten(),\n",
    "\t  layers.Dense(128, activation='relu', kernel_initializer='he_uniform'),\n",
    "\t  layers.Dense(1, activation='sigmoid')\n",
    "  ])\n",
    "\t\n",
    "\t# compile model\n",
    "\topt = optimizers.SGD(lr=0.001, momentum=0.9)\n",
    "\tmodel.compile(optimizer=opt, loss='binary_crossentropy', metrics=['accuracy'])\n",
    "\treturn model\n",
    "\n",
    "cnn_model = define_cnn_model()\n",
    "history = baseline_fire.fit(train_generator, steps_per_epoch=len(df_train)//30, epochs=10)"
   ]
  },
  {
   "cell_type": "code",
   "execution_count": 21,
   "metadata": {
    "colab": {
     "base_uri": "https://localhost:8080/",
     "height": 51
    },
    "colab_type": "code",
    "id": "JjrSzYY88zJC",
    "outputId": "105978a8-f21a-421f-cd86-7423c9d8bc79"
   },
   "outputs": [
    {
     "name": "stdout",
     "output_type": "stream",
     "text": [
      "Evaluating Model\n",
      "Train Accuracy: 88.333\n"
     ]
    }
   ],
   "source": [
    "# Evaluate model\n",
    "print('Evaluating Model')\n",
    "_, acc = baseline_fire.evaluate(test_generator, steps=len(df_test)//30, verbose=0)\n",
    "print('Train Accuracy: %.3f' % (acc * 100.0))"
   ]
  },
  {
   "cell_type": "code",
   "execution_count": 27,
   "metadata": {
    "colab": {
     "base_uri": "https://localhost:8080/",
     "height": 281
    },
    "colab_type": "code",
    "id": "c5WCN0nHBthY",
    "outputId": "c8ac2db0-b0fd-43e2-ce59-a0031778a92b"
   },
   "outputs": [
    {
     "data": {
      "image/png": "[encoded data removed]",
      "text/plain": [
       "<Figure size 432x288 with 2 Axes>"
      ]
     },
     "metadata": {
      "needs_background": "light",
      "tags": []
     },
     "output_type": "display_data"
    }
   ],
   "source": [
    "summarize_diagnostics(history)"
   ]
  },
  {
   "cell_type": "code",
   "execution_count": null,
   "metadata": {
    "colab": {},
    "colab_type": "code",
    "id": "H0KdDpqwBwWV"
   },
   "outputs": [],
   "source": []
  }
 ],
 "metadata": {
  "accelerator": "GPU",
  "colab": {
   "collapsed_sections": [],
   "name": "keras_fire_classification.ipynb",
   "provenance": [],
   "toc_visible": true
  },
  "kernelspec": {
   "display_name": "Python 3",
   "language": "python",
   "name": "python3"
  },
  "language_info": {
   "codemirror_mode": {
    "name": "ipython",
    "version": 3
   },
   "file_extension": ".py",
   "mimetype": "text/x-python",
   "name": "python",
   "nbconvert_exporter": "python",
   "pygments_lexer": "ipython3",
   "version": "3.7.7"
  }
 },
 "nbformat": 4,
 "nbformat_minor": 4
}
